{
 "cells": [
  {
   "cell_type": "markdown",
   "metadata": {},
   "source": [
    "## HW6"
   ]
  },
  {
   "cell_type": "markdown",
   "metadata": {},
   "source": [
    "## Problem 2 (1)"
   ]
  },
  {
   "cell_type": "markdown",
   "metadata": {},
   "source": [
    "#### In this problem, I used the library from libsvm."
   ]
  },
  {
   "cell_type": "markdown",
   "metadata": {},
   "source": [
    "#### For the following libsvm parameters,<br>\n",
    "#### -t: 0 for linear kernel, 1 for polynomial<br>\n",
    "#### -v:10 for 10 fold cross validation\n",
    "#### -d:5 for 5 degree"
   ]
  },
  {
   "cell_type": "code",
   "execution_count": 2,
   "metadata": {},
   "outputs": [],
   "source": [
    "import libsvm.python.svmutil as SVM"
   ]
  },
  {
   "cell_type": "markdown",
   "metadata": {},
   "source": [
    "#### load train_x, train_y, test_x, test_y"
   ]
  },
  {
   "cell_type": "code",
   "execution_count": 3,
   "metadata": {},
   "outputs": [],
   "source": [
    "y1, x1 = SVM.svm_read_problem('DogsVsCats/DogsVsCats.train')"
   ]
  },
  {
   "cell_type": "code",
   "execution_count": 4,
   "metadata": {},
   "outputs": [],
   "source": [
    "y2, x2 = SVM.svm_read_problem('DogsVsCats/DogsVsCats.test')"
   ]
  },
  {
   "cell_type": "markdown",
   "metadata": {},
   "source": [
    "# Linear"
   ]
  },
  {
   "cell_type": "markdown",
   "metadata": {},
   "source": [
    "### Validation"
   ]
  },
  {
   "cell_type": "code",
   "execution_count": 5,
   "metadata": {},
   "outputs": [
    {
     "name": "stdout",
     "output_type": "stream",
     "text": [
      "Cross Validation Accuracy = 59.904%\n"
     ]
    }
   ],
   "source": [
    "m1 = SVM.svm_train(y1,x1,'-t 0 -v 10')"
   ]
  },
  {
   "cell_type": "markdown",
   "metadata": {},
   "source": [
    "### Training"
   ]
  },
  {
   "cell_type": "code",
   "execution_count": 153,
   "metadata": {},
   "outputs": [],
   "source": [
    "m2 = SVM.svm_train(y1,x1,'-t 0')"
   ]
  },
  {
   "cell_type": "code",
   "execution_count": 154,
   "metadata": {},
   "outputs": [
    {
     "name": "stdout",
     "output_type": "stream",
     "text": [
      "Accuracy = 60.12% (7515/12500) (classification)\n"
     ]
    }
   ],
   "source": [
    "p_label, p_acc, p_val = SVM.svm_predict(y1, x1, m2)"
   ]
  },
  {
   "cell_type": "markdown",
   "metadata": {},
   "source": [
    "### Testing"
   ]
  },
  {
   "cell_type": "code",
   "execution_count": 155,
   "metadata": {},
   "outputs": [
    {
     "name": "stdout",
     "output_type": "stream",
     "text": [
      "Accuracy = 59.2% (7400/12500) (classification)\n"
     ]
    }
   ],
   "source": [
    "p_label, p_acc, p_val = SVM.svm_predict(y2, x2, m2)"
   ]
  },
  {
   "cell_type": "markdown",
   "metadata": {},
   "source": [
    "## Polynomial"
   ]
  },
  {
   "cell_type": "code",
   "execution_count": 13,
   "metadata": {},
   "outputs": [],
   "source": [
    "y1, x1 = SVM.svm_read_problem('DogsVsCats/DogsVsCats.train')"
   ]
  },
  {
   "cell_type": "code",
   "execution_count": 14,
   "metadata": {},
   "outputs": [],
   "source": [
    "y2, x2 = SVM.svm_read_problem('DogsVsCats/DogsVsCats.test')"
   ]
  },
  {
   "cell_type": "markdown",
   "metadata": {},
   "source": [
    "### Validation"
   ]
  },
  {
   "cell_type": "code",
   "execution_count": 15,
   "metadata": {},
   "outputs": [
    {
     "name": "stdout",
     "output_type": "stream",
     "text": [
      "Cross Validation Accuracy = 50.032%\n"
     ]
    }
   ],
   "source": [
    "m3 = SVM.svm_train(y1,x1,'-t 1 -v 10 -d 5')"
   ]
  },
  {
   "cell_type": "markdown",
   "metadata": {},
   "source": [
    "### Training"
   ]
  },
  {
   "cell_type": "code",
   "execution_count": 16,
   "metadata": {},
   "outputs": [],
   "source": [
    "m4 = SVM.svm_train(y1,x1,'-t 1 -d 5')"
   ]
  },
  {
   "cell_type": "code",
   "execution_count": 17,
   "metadata": {},
   "outputs": [
    {
     "name": "stdout",
     "output_type": "stream",
     "text": [
      "Accuracy = 50.024% (6253/12500) (classification)\n"
     ]
    }
   ],
   "source": [
    "p_label, p_acc, p_val = SVM.svm_predict(y1, x1, m4)"
   ]
  },
  {
   "cell_type": "markdown",
   "metadata": {},
   "source": [
    "### Testing"
   ]
  },
  {
   "cell_type": "code",
   "execution_count": 18,
   "metadata": {},
   "outputs": [
    {
     "name": "stdout",
     "output_type": "stream",
     "text": [
      "Accuracy = 50.048% (6256/12500) (classification)\n"
     ]
    }
   ],
   "source": [
    "p_label, p_acc, p_val = SVM.svm_predict(y2, x2, m4)"
   ]
  },
  {
   "cell_type": "markdown",
   "metadata": {},
   "source": [
    "## Problem 2 (2)"
   ]
  },
  {
   "cell_type": "code",
   "execution_count": 238,
   "metadata": {},
   "outputs": [],
   "source": [
    "import pandas as pd\n",
    "import math\n",
    "import random"
   ]
  },
  {
   "cell_type": "markdown",
   "metadata": {},
   "source": [
    "#### Combine the feature dictionary with the label list to form a pandas DataFrame"
   ]
  },
  {
   "cell_type": "code",
   "execution_count": 122,
   "metadata": {},
   "outputs": [],
   "source": [
    "def combine_columns(x,y):\n",
    "    temp1 = pd.DataFrame(x)\n",
    "    temp1['output']=y\n",
    "    return temp1"
   ]
  },
  {
   "cell_type": "markdown",
   "metadata": {},
   "source": [
    "#### Add initial weight for each new round of boosting\n",
    "#### weight = 1 / number of rows"
   ]
  },
  {
   "cell_type": "code",
   "execution_count": 123,
   "metadata": {},
   "outputs": [],
   "source": [
    "def add_initial_weight(df):\n",
    "    df['weight']= 1/df.shape[0]"
   ]
  },
  {
   "cell_type": "markdown",
   "metadata": {},
   "source": [
    "#### Calculate the Total Error\n",
    "#### Total Error = SUM of all wrong prediction's weight"
   ]
  },
  {
   "cell_type": "code",
   "execution_count": 124,
   "metadata": {},
   "outputs": [],
   "source": [
    "def calculate_TE(df,l):\n",
    "    count=0\n",
    "    df['output2']=l\n",
    "    for index, row in df.iterrows():\n",
    "        if (row['output'] != row['output2']):\n",
    "            count += row['weight']\n",
    "    return count"
   ]
  },
  {
   "cell_type": "markdown",
   "metadata": {},
   "source": [
    "#### Calculate the performance of stump\n",
    "#### Performance of stump = 1/2 * ln[(1-total error)/total error)]"
   ]
  },
  {
   "cell_type": "code",
   "execution_count": 125,
   "metadata": {},
   "outputs": [],
   "source": [
    "def calculate_perf_stump(te):\n",
    "    return 1/2*math.log((1-te)/te)"
   ]
  },
  {
   "cell_type": "markdown",
   "metadata": {},
   "source": [
    "#### Update the weight\n",
    "#### New weight = old weight * e to the power of performance of stump\n",
    "#### Normalize the new weight"
   ]
  },
  {
   "cell_type": "code",
   "execution_count": 248,
   "metadata": {},
   "outputs": [],
   "source": [
    "def update_weight(df,p_stump):\n",
    "    for index, rows in df.iterrows():\n",
    "        if (rows['output'] != rows['output2']):\n",
    "            rows['weight']=rows['weight'] * math.exp(p_stump)\n",
    "        else:\n",
    "            rows['weight']=rows['weight'] * math.exp(-p_stump)\n",
    "    s = df.loc[:,'weight'].sum()\n",
    "    df['weight'] = df['weight']/s\n",
    "    return df"
   ]
  },
  {
   "cell_type": "markdown",
   "metadata": {},
   "source": [
    "#### Add range with start and end to the dataframe\n",
    "#### This will be used in the weight addition during bossting"
   ]
  },
  {
   "cell_type": "code",
   "execution_count": 212,
   "metadata": {},
   "outputs": [],
   "source": [
    "def add_range(df):\n",
    "    df['start']=''\n",
    "    df['end']=''\n",
    "    df.at[0,'start'] = 0\n",
    "    df.at[0,'end']=df.at[0,'weight']\n",
    "    for i in range (1,len(df)):\n",
    "        df.at[i,'start'] = df.at[i-1,'end']\n",
    "        df.at[i,'end']=df.at[i,'weight']+df.at[i,'start']\n",
    "    return df"
   ]
  },
  {
   "cell_type": "markdown",
   "metadata": {},
   "source": [
    "#### One round of boosting\n",
    "#### Input with x_train,y_train,x_test,y_test\n",
    "#### Ouput with new_x_train, new_y_train for the next round\n",
    "#### We first train the model and get the p_label\n",
    "#### Then we combine the x_test with y_test to form the test data set\n",
    "#### We then perform the weight calculation and update the weight\n",
    "#### We randomly select number in range (0-1) and select the row based on ramdom number >= start &<=end\n",
    "#### We output the new_x_train and new_y_train"
   ]
  },
  {
   "cell_type": "code",
   "execution_count": 295,
   "metadata": {},
   "outputs": [],
   "source": [
    "def get_new_train_test2(x_train,y_train,x_test,y_test):\n",
    "    model = SVM.svm_train(y_train,x_train,'-t 0')\n",
    "    p_label, p_acc, p_val = SVM.svm_predict(y_test, x_test, model)\n",
    "    df = combine_columns(x_test,y_test)\n",
    "    add_initial_weight(df)\n",
    "    te = calculate_TE(df,p_label)\n",
    "    p_s = calculate_perf_stump(te)\n",
    "    df = add_range(update_weight(df,p_s))\n",
    "    new_df = pd.DataFrame(columns=list(df.columns))\n",
    "    for i in range(len(df)):\n",
    "        x = random.uniform(0,1)\n",
    "        new_df=new_df.append(df.loc[(df['end'] >= x) & (df['start'] <= x)])\n",
    "    new_x_train = new_df.drop(['output','output2','weight','start','end'],axis=1).to_dict('records')\n",
    "    new_y_train = new_df['output'].to_list()\n",
    "    return new_x_train,new_y_train"
   ]
  },
  {
   "cell_type": "markdown",
   "metadata": {},
   "source": [
    "#### Run the get_new_train_test2 method for k times"
   ]
  },
  {
   "cell_type": "code",
   "execution_count": 298,
   "metadata": {},
   "outputs": [],
   "source": [
    "def adaboost2(x_train,y_train,x_test,y_test,k):\n",
    "    for i in range(k):\n",
    "        x_train,y_train = get_new_train_test2(x_train,y_train,x_test,y_test)"
   ]
  },
  {
   "cell_type": "markdown",
   "metadata": {},
   "source": [
    "#### K = 10"
   ]
  },
  {
   "cell_type": "code",
   "execution_count": 299,
   "metadata": {},
   "outputs": [
    {
     "name": "stdout",
     "output_type": "stream",
     "text": [
      "Accuracy = 59.2% (7400/12500) (classification)\n",
      "Accuracy = 54.584% (6823/12500) (classification)\n",
      "Accuracy = 58.128% (7266/12500) (classification)\n",
      "Accuracy = 56.08% (7010/12500) (classification)\n",
      "Accuracy = 55.552% (6944/12500) (classification)\n",
      "Accuracy = 57.016% (7127/12500) (classification)\n",
      "Accuracy = 54.728% (6841/12500) (classification)\n",
      "Accuracy = 58.408% (7301/12500) (classification)\n",
      "Accuracy = 54.776% (6847/12500) (classification)\n",
      "Accuracy = 58.976% (7372/12500) (classification)\n"
     ]
    }
   ],
   "source": [
    "adaboost2(x1,y1,x2,y2,10)"
   ]
  },
  {
   "cell_type": "markdown",
   "metadata": {},
   "source": [
    "#### K = 20"
   ]
  },
  {
   "cell_type": "code",
   "execution_count": 300,
   "metadata": {},
   "outputs": [
    {
     "name": "stdout",
     "output_type": "stream",
     "text": [
      "Accuracy = 59.2% (7400/12500) (classification)\n",
      "Accuracy = 55.6% (6950/12500) (classification)\n",
      "Accuracy = 57.168% (7146/12500) (classification)\n",
      "Accuracy = 55.808% (6976/12500) (classification)\n",
      "Accuracy = 55.272% (6909/12500) (classification)\n",
      "Accuracy = 56.536% (7067/12500) (classification)\n",
      "Accuracy = 55.776% (6972/12500) (classification)\n",
      "Accuracy = 56.768% (7096/12500) (classification)\n",
      "Accuracy = 54.736% (6842/12500) (classification)\n",
      "Accuracy = 56.392% (7049/12500) (classification)\n",
      "Accuracy = 54.896% (6862/12500) (classification)\n",
      "Accuracy = 57.152% (7144/12500) (classification)\n",
      "Accuracy = 54.984% (6873/12500) (classification)\n",
      "Accuracy = 57.584% (7198/12500) (classification)\n",
      "Accuracy = 55.128% (6891/12500) (classification)\n",
      "Accuracy = 58.168% (7271/12500) (classification)\n",
      "Accuracy = 54.856% (6857/12500) (classification)\n",
      "Accuracy = 58.424% (7303/12500) (classification)\n",
      "Accuracy = 54.64% (6830/12500) (classification)\n",
      "Accuracy = 58.208% (7276/12500) (classification)\n"
     ]
    }
   ],
   "source": [
    "adaboost2(x1,y1,x2,y2,20)"
   ]
  },
  {
   "cell_type": "code",
   "execution_count": null,
   "metadata": {},
   "outputs": [],
   "source": []
  }
 ],
 "metadata": {
  "kernelspec": {
   "display_name": "Python 3",
   "language": "python",
   "name": "python3"
  },
  "language_info": {
   "codemirror_mode": {
    "name": "ipython",
    "version": 3
   },
   "file_extension": ".py",
   "mimetype": "text/x-python",
   "name": "python",
   "nbconvert_exporter": "python",
   "pygments_lexer": "ipython3",
   "version": "3.8.5"
  }
 },
 "nbformat": 4,
 "nbformat_minor": 4
}
